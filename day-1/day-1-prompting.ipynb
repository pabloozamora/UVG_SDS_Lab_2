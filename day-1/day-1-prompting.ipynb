{
 "cells": [
  {
   "cell_type": "markdown",
   "metadata": {
    "id": "jkxRSYjzA1oX"
   },
   "source": [
    "##### Copyright 2024 Google LLC."
   ]
  },
  {
   "cell_type": "code",
   "execution_count": null,
   "metadata": {
    "cellView": "form",
    "execution": {
     "iopub.execute_input": "2024-11-13T10:05:21.694231Z",
     "iopub.status.busy": "2024-11-13T10:05:21.693311Z",
     "iopub.status.idle": "2024-11-13T10:05:21.718369Z",
     "shell.execute_reply": "2024-11-13T10:05:21.717194Z",
     "shell.execute_reply.started": "2024-11-13T10:05:21.694187Z"
    },
    "id": "5u5OZ2ShA3BA",
    "jupyter": {
     "source_hidden": true
    },
    "trusted": true
   },
   "outputs": [],
   "source": [
    "# @title Licensed under the Apache License, Version 2.0 (the \"License\");\n",
    "# you may not use this file except in compliance with the License.\n",
    "# You may obtain a copy of the License at\n",
    "#\n",
    "# https://www.apache.org/licenses/LICENSE-2.0\n",
    "#\n",
    "# Unless required by applicable law or agreed to in writing, software\n",
    "# distributed under the License is distributed on an \"AS IS\" BASIS,\n",
    "# WITHOUT WARRANTIES OR CONDITIONS OF ANY KIND, either express or implied.\n",
    "# See the License for the specific language governing permissions and\n",
    "# limitations under the License."
   ]
  },
  {
   "cell_type": "markdown",
   "metadata": {},
   "source": [
    "# Laboratorio 2 - GenAI"
   ]
  },
  {
   "cell_type": "markdown",
   "metadata": {},
   "source": [
    "Universidad del Valle de Guatemala<br>\n",
    "Security Data Science - Sección 10<br>\n",
    "Pablo Andrés Zamora Vásquez<br>\n",
    "Carné 21780<br>"
   ]
  },
  {
   "cell_type": "markdown",
   "metadata": {
    "id": "csNPnkuCobmG"
   },
   "source": [
    "# Day 1 - Prompting\n",
    "\n",
    "Welcome to the Kaggle 5-day Generative AI course!\n",
    "\n",
    "This notebook will show you how to get started with the Gemini API and walk you through some of the example prompts and techniques that you can also read about in the Prompting whitepaper. You don't need to read the whitepaper to use this notebook, but the papers will give you some theoretical context and background to complement this interactive notebook.\n",
    "\n",
    "\n",
    "## Before you begin\n",
    "\n",
    "In this notebook, you'll start exploring prompts and prompt parameters using the Python SDK and AI Studio. For some inspiration, you might enjoy exploring some apps that have been built using the Gemini family of models. Here are a few that we like, and we think you will too.\n",
    "\n",
    "* [TextFX](https://textfx.withgoogle.com/) is a suite of AI-powered tools for rappers, made in collaboration with Lupe Fiasco,\n",
    "* [SQL Talk](https://sql-talk-r5gdynozbq-uc.a.run.app/) shows how you can talk directly to a database using the Gemini API,\n",
    "* [NotebookLM](https://notebooklm.google/) uses Gemini models to build your own personal AI research assistant.\n",
    "\n",
    "\n",
    "## For help\n",
    "\n",
    "**Common issues are covered in the [FAQ and troubleshooting guide](https://www.kaggle.com/code/markishere/day-0-troubleshooting-and-faqs).**\n",
    "\n",
    "### A note on the Gemini API and Vertex AI\n",
    "\n",
    "In the whitepapers, most of the example code uses the Enterprise [Vertex AI platform](https://cloud.google.com/vertex-ai). In contrast, this notebook, along with the others in this series, will use the [Gemini Developer API](https://ai.google.dev/gemini-api/) and [AI Studio](https://aistudio.google.com/).\n",
    "\n",
    "Both APIs provide access to the Gemini family of models, and the code to interact with the models is very similar. Vertex provides a world-class platform for enterprises, governments and advanced users that need powerful features like data governance, ML ops and deep Google Cloud integration.\n",
    "\n",
    "AI Studio is free to use and only requires a compatible Google account to log in and get started. It is deeply integrated with the Gemini API, which comes with a generous [free tier](https://ai.google.dev/pricing) that you can use to run the code in these exercises.\n",
    "\n",
    "If you are already set up with Google Cloud, you can check out the [Enterprise Gemini API](https://cloud.google.com/vertex-ai/generative-ai/docs/model-reference/inference) through Vertex AI, and run the samples directly from the supplied whitepapers."
   ]
  },
  {
   "cell_type": "markdown",
   "metadata": {
    "id": "f00ea7c99e44"
   },
   "source": [
    "## Get started with Kaggle notebooks\n",
    "\n",
    "If this is your first time using a Kaggle notebook, welcome! You can read about how to use Kaggle notebooks [in the docs](https://www.kaggle.com/docs/notebooks).\n",
    "\n",
    "First, you will need to phone verify your account at kaggle.com/settings.\n",
    "\n",
    "![](https://storage.googleapis.com/kaggle-media/Images/5dgai_0.png)"
   ]
  },
  {
   "cell_type": "markdown",
   "metadata": {},
   "source": [
    "To run this notebook, as well as the others in this course, you will need to make a copy, or fork, the notebook. Look for the `Copy and Edit` button in the top-right, and **click it** to make an editable, private copy of the notebook. It should look like this one:\n",
    "\n",
    "![Copy and Edit button](https://storage.googleapis.com/kaggle-media/Images/5gdai_sc_1.png)\n",
    "\n",
    "Your copy will now have a ▶️ **Run** button next to each code cell that you can press to execute that cell. These notebooks are expected to be run in order from top-to-bottom, but you are encouraged to add new cells, run your own code and explore. If you get stuck, you can try the `Factory reset` option in the `Run` menu, or head back to the original notebook and make a fresh copy.\n",
    "\n",
    "![Run cell button](https://storage.googleapis.com/kaggle-media/Images/5gdai_sc_2.png)\n",
    "\n",
    "### Problems?\n",
    "\n",
    "If you have any problems, head over to the [Kaggle Discord](https://discord.com/invite/kaggle), find the [`#5dgai-q-and-a` channel](https://discord.com/channels/1101210829807956100/1303438695143178251) and ask for help."
   ]
  },
  {
   "cell_type": "markdown",
   "metadata": {
    "id": "ExkOXcPxtTb5"
   },
   "source": [
    "## Get started with the Gemini API\n",
    "\n",
    "All of the exercises in this notebook will use the [Gemini API](https://ai.google.dev/gemini-api/) by way of the [Python SDK](https://pypi.org/project/google-generativeai/). Each of these prompts can be accessed directly in [Google AI Studio](https://aistudio.google.com/) too, so if you would rather use a web interface and skip the code for this activity, look for the <img src=\"https://ai.google.dev/site-assets/images/marketing/home/icon-ais.png\" style=\"height: 24px\" height=24/> AI Studio link on each prompt."
   ]
  },
  {
   "cell_type": "markdown",
   "metadata": {},
   "source": [
    "Next, you will need to add your API key to your Kaggle Notebook as a Kaggle User Secret.\n",
    "\n",
    "![](https://storage.googleapis.com/kaggle-media/Images/5dgai_1.png)\n",
    "![](https://storage.googleapis.com/kaggle-media/Images/5dgai_2.png)\n",
    "![](https://storage.googleapis.com/kaggle-media/Images/5dgai_3.png)\n",
    "![](https://storage.googleapis.com/kaggle-media/Images/5dgai_4.png)"
   ]
  },
  {
   "cell_type": "markdown",
   "metadata": {
    "id": "UAjUV3BsvFXQ"
   },
   "source": [
    "### Install the SDK"
   ]
  },
  {
   "cell_type": "code",
   "execution_count": 1,
   "metadata": {
    "execution": {
     "iopub.execute_input": "2025-02-15T21:40:09.389372Z",
     "iopub.status.busy": "2025-02-15T21:40:09.388934Z",
     "iopub.status.idle": "2025-02-15T21:40:40.921437Z",
     "shell.execute_reply": "2025-02-15T21:40:40.919972Z",
     "shell.execute_reply.started": "2025-02-15T21:40:09.389316Z"
    },
    "id": "NzwzJFU9LqkJ",
    "trusted": true
   },
   "outputs": [
    {
     "name": "stdout",
     "output_type": "stream",
     "text": [
      "Note: you may need to restart the kernel to use updated packages.\n"
     ]
    }
   ],
   "source": [
    "%pip install -U -q \"google-generativeai>=0.8.3\""
   ]
  },
  {
   "cell_type": "markdown",
   "metadata": {},
   "source": [
    "You do not need to restart the kernel."
   ]
  },
  {
   "cell_type": "code",
   "execution_count": 2,
   "metadata": {
    "execution": {
     "iopub.execute_input": "2025-02-15T21:40:59.536775Z",
     "iopub.status.busy": "2025-02-15T21:40:59.535893Z",
     "iopub.status.idle": "2025-02-15T21:41:00.652808Z",
     "shell.execute_reply": "2025-02-15T21:41:00.651402Z",
     "shell.execute_reply.started": "2025-02-15T21:40:59.536725Z"
    },
    "id": "5DwxYIRavMST",
    "trusted": true
   },
   "outputs": [],
   "source": [
    "import google.generativeai as genai\n",
    "from IPython.display import HTML, Markdown, display"
   ]
  },
  {
   "cell_type": "markdown",
   "metadata": {
    "id": "DNEt2BCOvOJ1"
   },
   "source": [
    "### Set up your API key\n",
    "\n",
    "To run the following cell, your API key must be stored it in a [Kaggle secret](https://www.kaggle.com/discussions/product-feedback/114053) named `GOOGLE_API_KEY`.\n",
    "\n",
    "If you don't already have an API key, you can grab one from [AI Studio](https://aistudio.google.com/app/apikey). You can find [detailed instructions in the docs](https://ai.google.dev/gemini-api/docs/api-key).\n",
    "\n",
    "To make the key available through Kaggle secrets, choose `Secrets` from the `Add-ons` menu and follow the instructions to add your key or enable it for this notebook."
   ]
  },
  {
   "cell_type": "code",
   "execution_count": 4,
   "metadata": {
    "execution": {
     "iopub.execute_input": "2025-02-15T21:41:18.980945Z",
     "iopub.status.busy": "2025-02-15T21:41:18.980559Z",
     "iopub.status.idle": "2025-02-15T21:41:19.104909Z",
     "shell.execute_reply": "2025-02-15T21:41:19.103539Z",
     "shell.execute_reply.started": "2025-02-15T21:41:18.980911Z"
    },
    "id": "SHl0bkPCvayd",
    "trusted": true
   },
   "outputs": [],
   "source": [
    "from kaggle_secrets import UserSecretsClient\n",
    "\n",
    "GOOGLE_API_KEY = UserSecretsClient().get_secret(\"GOOGLE_API_KEY\")\n",
    "genai.configure(api_key=GOOGLE_API_KEY)"
   ]
  },
  {
   "cell_type": "markdown",
   "metadata": {
    "id": "4e720472fd86"
   },
   "source": [
    "If you received an error response along the lines of `No user secrets exist for kernel id ...`, then you need to add your API key via `Add-ons`, `Secrets` **and** enable it.\n",
    "\n",
    "![Screenshot of the checkbox to enable GOOGLE_API_KEY secret](https://storage.googleapis.com/kaggle-media/Images/5gdai_sc_3.png)"
   ]
  },
  {
   "cell_type": "markdown",
   "metadata": {
    "id": "H_YXCYIKvyZJ"
   },
   "source": [
    "### Run your first prompt\n",
    "\n",
    "In this step, you will test that your API key is set up correctly by making a request. The `gemini-1.5-flash` model has been selected here."
   ]
  },
  {
   "cell_type": "code",
   "execution_count": 5,
   "metadata": {
    "execution": {
     "iopub.execute_input": "2025-02-15T21:41:33.013355Z",
     "iopub.status.busy": "2025-02-15T21:41:33.012946Z",
     "iopub.status.idle": "2025-02-15T21:41:35.473886Z",
     "shell.execute_reply": "2025-02-15T21:41:35.472830Z",
     "shell.execute_reply.started": "2025-02-15T21:41:33.013314Z"
    },
    "id": "BV1o0PmcvyJF",
    "trusted": true
   },
   "outputs": [
    {
     "name": "stdout",
     "output_type": "stream",
     "text": [
      "Imagine you have a really smart puppy.  You teach it tricks, like \"sit\" and \"fetch.\"  At first, it doesn't know what those words mean, but you show it and give it treats when it does it right.  Slowly, it learns to understand what you want.\n",
      "\n",
      "Artificial Intelligence, or AI, is like teaching a computer to be that smart puppy.  Instead of treats, we give the computer lots and lots of information, and we teach it rules for figuring things out.\n",
      "\n",
      "Sometimes we teach it by showing it lots of pictures of cats and saying \"cat.\"  Then, when it sees a new picture, it can guess if it's a cat or not!  Other times we teach it to play games, like chess, so it learns how to make good moves.\n",
      "\n",
      "AI isn't actually *thinking* like we do, it's just really good at following rules and finding patterns in information.  It's like a super-powered calculator that can learn and get better at things over time.  It can help us do lots of cool things, like make self-driving cars, translate languages, and even create art!\n",
      "\n"
     ]
    }
   ],
   "source": [
    "flash = genai.GenerativeModel('gemini-1.5-flash')\n",
    "response = flash.generate_content(\"Explain AI to me like I'm a kid.\")\n",
    "print(response.text)"
   ]
  },
  {
   "cell_type": "markdown",
   "metadata": {
    "id": "f60ed9d8ae41"
   },
   "source": [
    "The response often comes back in markdown format, which you can render directly in this notebook."
   ]
  },
  {
   "cell_type": "code",
   "execution_count": 6,
   "metadata": {
    "execution": {
     "iopub.execute_input": "2025-02-15T21:42:26.071353Z",
     "iopub.status.busy": "2025-02-15T21:42:26.070966Z",
     "iopub.status.idle": "2025-02-15T21:42:26.080734Z",
     "shell.execute_reply": "2025-02-15T21:42:26.079736Z",
     "shell.execute_reply.started": "2025-02-15T21:42:26.071322Z"
    },
    "id": "c933e5e460a5",
    "trusted": true
   },
   "outputs": [
    {
     "data": {
      "text/markdown": [
       "Imagine you have a really smart puppy.  You teach it tricks, like \"sit\" and \"fetch.\"  At first, it doesn't know what those words mean, but you show it and give it treats when it does it right.  Slowly, it learns to understand what you want.\n",
       "\n",
       "Artificial Intelligence, or AI, is like teaching a computer to be that smart puppy.  Instead of treats, we give the computer lots and lots of information, and we teach it rules for figuring things out.\n",
       "\n",
       "Sometimes we teach it by showing it lots of pictures of cats and saying \"cat.\"  Then, when it sees a new picture, it can guess if it's a cat or not!  Other times we teach it to play games, like chess, so it learns how to make good moves.\n",
       "\n",
       "AI isn't actually *thinking* like we do, it's just really good at following rules and finding patterns in information.  It's like a super-powered calculator that can learn and get better at things over time.  It can help us do lots of cool things, like make self-driving cars, translate languages, and even create art!\n"
      ],
      "text/plain": [
       "<IPython.core.display.Markdown object>"
      ]
     },
     "execution_count": 6,
     "metadata": {},
     "output_type": "execute_result"
    }
   ],
   "source": [
    "Markdown(response.text)"
   ]
  },
  {
   "cell_type": "markdown",
   "metadata": {
    "id": "byx0pT9ZMW2Q"
   },
   "source": [
    "### Start a chat\n",
    "\n",
    "The previous example uses a single-turn, text-in/text-out structure, but you can also set up a multi-turn chat structure too."
   ]
  },
  {
   "cell_type": "code",
   "execution_count": 10,
   "metadata": {
    "execution": {
     "iopub.execute_input": "2025-02-15T21:43:31.111509Z",
     "iopub.status.busy": "2025-02-15T21:43:31.110974Z",
     "iopub.status.idle": "2025-02-15T21:43:31.595931Z",
     "shell.execute_reply": "2025-02-15T21:43:31.594853Z",
     "shell.execute_reply.started": "2025-02-15T21:43:31.111458Z"
    },
    "id": "lV_S5ZL5MidD",
    "trusted": true
   },
   "outputs": [
    {
     "name": "stdout",
     "output_type": "stream",
     "text": [
      "Hello Pablo! It's nice to meet you.\n",
      "\n"
     ]
    }
   ],
   "source": [
    "chat = flash.start_chat(history=[])\n",
    "response = chat.send_message('Hello! My name is Pablo.')\n",
    "print(response.text)"
   ]
  },
  {
   "cell_type": "code",
   "execution_count": 11,
   "metadata": {
    "execution": {
     "iopub.execute_input": "2025-02-15T21:43:36.790917Z",
     "iopub.status.busy": "2025-02-15T21:43:36.790533Z",
     "iopub.status.idle": "2025-02-15T21:43:37.651770Z",
     "shell.execute_reply": "2025-02-15T21:43:37.650727Z",
     "shell.execute_reply.started": "2025-02-15T21:43:36.790883Z"
    },
    "id": "7b0372c3c64a",
    "trusted": true
   },
   "outputs": [
    {
     "name": "stdout",
     "output_type": "stream",
     "text": [
      "Some dinosaurs had feathers!  While we often picture dinosaurs as scaly reptiles, many theropod dinosaurs (the group that includes *Tyrannosaurus rex* and Velociraptors) are now known to have sported feathers, ranging from simple filaments to complex, bird-like plumage. This discovery has been crucial in understanding the evolutionary link between dinosaurs and birds.\n",
      "\n"
     ]
    }
   ],
   "source": [
    "response = chat.send_message('Can you tell something interesting about dinosaurs?')\n",
    "print(response.text)"
   ]
  },
  {
   "cell_type": "code",
   "execution_count": 12,
   "metadata": {
    "execution": {
     "iopub.execute_input": "2025-02-15T21:43:41.801356Z",
     "iopub.status.busy": "2025-02-15T21:43:41.800847Z",
     "iopub.status.idle": "2025-02-15T21:43:42.226634Z",
     "shell.execute_reply": "2025-02-15T21:43:42.225492Z",
     "shell.execute_reply.started": "2025-02-15T21:43:41.801313Z"
    },
    "id": "d3f9591392a7",
    "trusted": true
   },
   "outputs": [
    {
     "name": "stdout",
     "output_type": "stream",
     "text": [
      "Yes, your name is Pablo.\n",
      "\n"
     ]
    }
   ],
   "source": [
    "# While you have the `chat` object around, the conversation state\n",
    "# persists. Confirm that by asking if it knows my name.\n",
    "response = chat.send_message('Do you remember what my name is?')\n",
    "print(response.text)"
   ]
  },
  {
   "cell_type": "markdown",
   "metadata": {
    "id": "2KAjpr1200sW"
   },
   "source": [
    "### Choose a model\n",
    "\n",
    "The Gemini API provides access to a number of models from the Gemini model family. Read about the available models and their capabilities on the [model overview page](https://ai.google.dev/gemini-api/docs/models/gemini).\n",
    "\n",
    "In this step you'll use the API to list all of the available models."
   ]
  },
  {
   "cell_type": "code",
   "execution_count": 13,
   "metadata": {
    "execution": {
     "iopub.execute_input": "2025-02-15T21:44:03.467350Z",
     "iopub.status.busy": "2025-02-15T21:44:03.466936Z",
     "iopub.status.idle": "2025-02-15T21:44:03.879696Z",
     "shell.execute_reply": "2025-02-15T21:44:03.878552Z",
     "shell.execute_reply.started": "2025-02-15T21:44:03.467317Z"
    },
    "id": "uUUZa2uq2jDm",
    "trusted": true
   },
   "outputs": [
    {
     "name": "stdout",
     "output_type": "stream",
     "text": [
      "models/chat-bison-001\n",
      "models/text-bison-001\n",
      "models/embedding-gecko-001\n",
      "models/gemini-1.0-pro-latest\n",
      "models/gemini-1.0-pro\n",
      "models/gemini-pro\n",
      "models/gemini-1.0-pro-001\n",
      "models/gemini-1.0-pro-vision-latest\n",
      "models/gemini-pro-vision\n",
      "models/gemini-1.5-pro-latest\n",
      "models/gemini-1.5-pro-001\n",
      "models/gemini-1.5-pro-002\n",
      "models/gemini-1.5-pro\n",
      "models/gemini-1.5-flash-latest\n",
      "models/gemini-1.5-flash-001\n",
      "models/gemini-1.5-flash-001-tuning\n",
      "models/gemini-1.5-flash\n",
      "models/gemini-1.5-flash-002\n",
      "models/gemini-1.5-flash-8b\n",
      "models/gemini-1.5-flash-8b-001\n",
      "models/gemini-1.5-flash-8b-latest\n",
      "models/gemini-1.5-flash-8b-exp-0827\n",
      "models/gemini-1.5-flash-8b-exp-0924\n",
      "models/gemini-2.0-flash-exp\n",
      "models/gemini-2.0-flash\n",
      "models/gemini-2.0-flash-001\n",
      "models/gemini-2.0-flash-lite-preview\n",
      "models/gemini-2.0-flash-lite-preview-02-05\n",
      "models/gemini-2.0-pro-exp\n",
      "models/gemini-2.0-pro-exp-02-05\n",
      "models/gemini-exp-1206\n",
      "models/gemini-2.0-flash-thinking-exp-01-21\n",
      "models/gemini-2.0-flash-thinking-exp\n",
      "models/gemini-2.0-flash-thinking-exp-1219\n",
      "models/learnlm-1.5-pro-experimental\n",
      "models/embedding-001\n",
      "models/text-embedding-004\n",
      "models/aqa\n",
      "models/imagen-3.0-generate-002\n"
     ]
    }
   ],
   "source": [
    "for model in genai.list_models():\n",
    "  print(model.name)"
   ]
  },
  {
   "cell_type": "markdown",
   "metadata": {
    "id": "rN49kSI54R1v"
   },
   "source": [
    "The [`models.list`](https://ai.google.dev/api/models#method:-models.list) response also returns additional information about the model's capabilities, like the token limits and supported parameters."
   ]
  },
  {
   "cell_type": "code",
   "execution_count": 14,
   "metadata": {
    "execution": {
     "iopub.execute_input": "2025-02-15T21:44:23.662760Z",
     "iopub.status.busy": "2025-02-15T21:44:23.662307Z",
     "iopub.status.idle": "2025-02-15T21:44:23.963463Z",
     "shell.execute_reply": "2025-02-15T21:44:23.962442Z",
     "shell.execute_reply.started": "2025-02-15T21:44:23.662724Z"
    },
    "id": "k7JJ1K6j4Rl8",
    "trusted": true
   },
   "outputs": [
    {
     "name": "stdout",
     "output_type": "stream",
     "text": [
      "Model(name='models/gemini-1.5-flash',\n",
      "      base_model_id='',\n",
      "      version='001',\n",
      "      display_name='Gemini 1.5 Flash',\n",
      "      description=('Alias that points to the most recent stable version of Gemini 1.5 Flash, our '\n",
      "                   'fast and versatile multimodal model for scaling across diverse tasks.'),\n",
      "      input_token_limit=1000000,\n",
      "      output_token_limit=8192,\n",
      "      supported_generation_methods=['generateContent', 'countTokens'],\n",
      "      temperature=1.0,\n",
      "      max_temperature=2.0,\n",
      "      top_p=0.95,\n",
      "      top_k=40)\n"
     ]
    }
   ],
   "source": [
    "for model in genai.list_models():\n",
    "  if model.name == 'models/gemini-1.5-flash':\n",
    "    print(model)\n",
    "    break"
   ]
  },
  {
   "cell_type": "markdown",
   "metadata": {
    "id": "5rU_UBlZdooM"
   },
   "source": [
    "## Explore generation parameters\n",
    "\n"
   ]
  },
  {
   "cell_type": "markdown",
   "metadata": {
    "id": "G7NfEizeipbW"
   },
   "source": [
    "### Output length\n",
    "\n",
    "When generating text with an LLM, the output length affects cost and performance. Generating more tokens increases computation, leading to higher energy consumption, latency, and cost.\n",
    "\n",
    "To stop the model from generating tokens past a limit, you can specify the `max_output_tokens` parameter when using the Gemini API. Specifying this parameter does not influence the generation of the output tokens, so the output will not become more stylistically or textually succinct, but it will stop generating tokens once the specified length is reached. Prompt engineering may be required to generate a more complete output for your given limit."
   ]
  },
  {
   "cell_type": "code",
   "execution_count": 15,
   "metadata": {
    "execution": {
     "iopub.execute_input": "2025-02-15T21:45:04.453785Z",
     "iopub.status.busy": "2025-02-15T21:45:04.453398Z",
     "iopub.status.idle": "2025-02-15T21:45:06.430212Z",
     "shell.execute_reply": "2025-02-15T21:45:06.429057Z",
     "shell.execute_reply.started": "2025-02-15T21:45:04.453752Z"
    },
    "id": "qVf23JsIi9ma",
    "trusted": true
   },
   "outputs": [
    {
     "name": "stdout",
     "output_type": "stream",
     "text": [
      "## The Enduring Significance of Olives in Modern Society\n",
      "\n",
      "The olive, a seemingly humble fruit, holds a position of profound importance in modern society far exceeding its simple culinary applications.  From its ancient roots in Mediterranean civilization to its contemporary presence in global markets and research labs, the olive’s influence permeates various aspects of human life, impacting economies, cultures, and even health.  Its significance extends beyond mere sustenance, encompassing environmental sustainability, economic stability for numerous communities, and the promise of future advancements in health and wellness.\n",
      "\n",
      "The historical significance of the olive tree is undeniable.  Cultivated for millennia, it played a pivotal role in the development of ancient civilizations across the Mediterranean basin.  Beyond its use as a food source, olive oil was crucial in religious rituals, used for anointing and as a symbol of peace and prosperity. The olive branch, a potent symbol of peace, continues to resonate in modern times, its image readily recognizable and universally understood. This rich history imbues the olive\n"
     ]
    }
   ],
   "source": [
    "short_model = genai.GenerativeModel(\n",
    "    'gemini-1.5-flash',\n",
    "    generation_config=genai.GenerationConfig(max_output_tokens=200))\n",
    "\n",
    "response = short_model.generate_content('Write a 1000 word essay on the importance of olives in modern society.')\n",
    "print(response.text)"
   ]
  },
  {
   "cell_type": "code",
   "execution_count": 16,
   "metadata": {
    "execution": {
     "iopub.execute_input": "2025-02-15T21:45:12.269233Z",
     "iopub.status.busy": "2025-02-15T21:45:12.268879Z",
     "iopub.status.idle": "2025-02-15T21:45:13.451013Z",
     "shell.execute_reply": "2025-02-15T21:45:13.449916Z",
     "shell.execute_reply.started": "2025-02-15T21:45:12.269202Z"
    },
    "id": "W-3kR2F5kdMR",
    "trusted": true
   },
   "outputs": [
    {
     "name": "stdout",
     "output_type": "stream",
     "text": [
      "From ancient groves, a bounty small,\n",
      "The olive's gift, embracing all.\n",
      "In oil it flows, a kitchen's grace,\n",
      "A vibrant hue, a savory taste.\n",
      "\n",
      "On tables spread, a simple fare,\n",
      "From tapas plates, beyond compare.\n",
      "A symbol strong, of sun-drenched lands,\n",
      "In bottles stored, by skilled hands.\n",
      "\n",
      "Beyond the oil, the fruit remains,\n",
      "A salty crunch, that joy sustains.\n",
      "A modern need, a classic treat,\n",
      "The humble olive, oh so sweet.\n",
      "\n"
     ]
    }
   ],
   "source": [
    "response = short_model.generate_content('Write a short poem on the importance of olives in modern society.')\n",
    "print(response.text)"
   ]
  },
  {
   "cell_type": "markdown",
   "metadata": {
    "id": "3ZhDSLB6lqqB"
   },
   "source": [
    "Explore with your own prompts. Try a prompt with a restrictive output limit and then adjust the prompt to work within that limit."
   ]
  },
  {
   "cell_type": "code",
   "execution_count": 17,
   "metadata": {
    "execution": {
     "iopub.execute_input": "2025-02-15T21:47:10.860902Z",
     "iopub.status.busy": "2025-02-15T21:47:10.860550Z",
     "iopub.status.idle": "2025-02-15T21:47:11.875933Z",
     "shell.execute_reply": "2025-02-15T21:47:11.874804Z",
     "shell.execute_reply.started": "2025-02-15T21:47:10.860871Z"
    },
    "trusted": true
   },
   "outputs": [
    {
     "name": "stdout",
     "output_type": "stream",
     "text": [
      "Tres razones por las que la seguridad informática es una buena especialización son:\n",
      "\n",
      "1. **Alta demanda y salarios competitivos:**  La seguridad informática es un campo en constante crecimiento, con una demanda cada vez mayor de profesionales cualificados. Las empresas de todos los tamaños necesitan proteger sus datos y sistemas, lo que resulta en salarios muy competitivos para aquellos con las habilidades adecuadas.  La escasez de profesionales en el área asegura que las oportunidades laborales son abundantes y bien remuneradas.\n",
      "\n",
      "2. **\n"
     ]
    }
   ],
   "source": [
    "short_model = genai.GenerativeModel(\n",
    "    'gemini-1.5-flash',\n",
    "    generation_config=genai.GenerationConfig(max_output_tokens=100))\n",
    "\n",
    "response = short_model.generate_content('Dime 3 razones de por qué seguridad informática es una buena especialización.')\n",
    "print(response.text)"
   ]
  },
  {
   "cell_type": "code",
   "execution_count": 18,
   "metadata": {
    "execution": {
     "iopub.execute_input": "2025-02-15T21:48:26.805309Z",
     "iopub.status.busy": "2025-02-15T21:48:26.804897Z",
     "iopub.status.idle": "2025-02-15T21:48:27.369853Z",
     "shell.execute_reply": "2025-02-15T21:48:27.368768Z",
     "shell.execute_reply.started": "2025-02-15T21:48:26.805275Z"
    },
    "trusted": true
   },
   "outputs": [
    {
     "name": "stdout",
     "output_type": "stream",
     "text": [
      "1. Alta demanda laboral y salarios competitivos.\n",
      "2. Constante evolución y aprendizaje continuo.\n",
      "3. Impacto significativo en la sociedad y las empresas.\n",
      "\n"
     ]
    }
   ],
   "source": [
    "# Ajustando el prompt al máximo de tokens\n",
    "response = short_model.generate_content('Menciona 3 razones de por qué seguridad informática es una buena especialización, no hace falta que detalles cada una.')\n",
    "print(response.text)"
   ]
  },
  {
   "cell_type": "markdown",
   "metadata": {
    "id": "alx-WaAvir_9"
   },
   "source": [
    "### Temperature\n",
    "\n",
    "Temperature controls the degree of randomness in token selection. Higher temperatures result in a higher number of candidate tokens from which the next output token is selected, and can produce more diverse results, while lower temperatures have the opposite effect, such that a temperature of 0 results in greedy decoding, selecting the most probable token at each step.\n",
    "\n",
    "Temperature doesn't provide any guarantees of randomness, but it can be used to \"nudge\" the output somewhat.\n",
    "\n",
    "**Note that if you see a 429 Resource Exhausted error here, you may be able to edit the words in the prompt slightly to progress.**"
   ]
  },
  {
   "cell_type": "code",
   "execution_count": 19,
   "metadata": {
    "execution": {
     "iopub.execute_input": "2025-02-15T22:11:29.168653Z",
     "iopub.status.busy": "2025-02-15T22:11:29.168234Z",
     "iopub.status.idle": "2025-02-15T22:11:35.457154Z",
     "shell.execute_reply": "2025-02-15T22:11:35.456038Z",
     "shell.execute_reply.started": "2025-02-15T22:11:29.168616Z"
    },
    "id": "SHraGMzqnZqt",
    "trusted": true
   },
   "outputs": [
    {
     "name": "stdout",
     "output_type": "stream",
     "text": [
      "Aquamarine\n",
      " -------------------------\n",
      "Maroon\n",
      " -------------------------\n",
      "Aquamarine\n",
      " -------------------------\n",
      "Maroon\n",
      " -------------------------\n",
      "Purple\n",
      " -------------------------\n"
     ]
    }
   ],
   "source": [
    "from google.api_core import retry\n",
    "\n",
    "high_temp_model = genai.GenerativeModel(\n",
    "    'gemini-1.5-flash',\n",
    "    generation_config=genai.GenerationConfig(temperature=2.0))\n",
    "\n",
    "\n",
    "# When running lots of queries, it's a good practice to use a retry policy so your code\n",
    "# automatically retries when hitting Resource Exhausted (quota limit) errors.\n",
    "retry_policy = {\n",
    "    \"retry\": retry.Retry(predicate=retry.if_transient_error, initial=10, multiplier=1.5, timeout=300)\n",
    "}\n",
    "\n",
    "for _ in range(5):\n",
    "  response = high_temp_model.generate_content('Pick a random colour... (respond in a single word)',\n",
    "                                              request_options=retry_policy)\n",
    "  if response.parts:\n",
    "    print(response.text, '-' * 25)"
   ]
  },
  {
   "cell_type": "markdown",
   "metadata": {
    "id": "z3J4pCTuof7e"
   },
   "source": [
    "Now try the same prompt with temperature set to zero. Note that the output is not completely deterministic, as other parameters affect token selection, but the results will tend to be more stable."
   ]
  },
  {
   "cell_type": "code",
   "execution_count": 20,
   "metadata": {
    "execution": {
     "iopub.execute_input": "2025-02-15T22:12:01.791095Z",
     "iopub.status.busy": "2025-02-15T22:12:01.790652Z",
     "iopub.status.idle": "2025-02-15T22:12:03.824892Z",
     "shell.execute_reply": "2025-02-15T22:12:03.823798Z",
     "shell.execute_reply.started": "2025-02-15T22:12:01.791052Z"
    },
    "id": "clymkWv-PfUZ",
    "trusted": true
   },
   "outputs": [
    {
     "name": "stdout",
     "output_type": "stream",
     "text": [
      "Maroon\n",
      " -------------------------\n",
      "Maroon\n",
      " -------------------------\n",
      "Maroon\n",
      " -------------------------\n",
      "Maroon\n",
      " -------------------------\n",
      "Maroon\n",
      " -------------------------\n"
     ]
    }
   ],
   "source": [
    "low_temp_model = genai.GenerativeModel(\n",
    "    'gemini-1.5-flash',\n",
    "    generation_config=genai.GenerationConfig(temperature=0.0))\n",
    "\n",
    "for _ in range(5):\n",
    "  response = low_temp_model.generate_content('Pick a random colour... (respond in a single word)',\n",
    "                                             request_options=retry_policy)\n",
    "  if response.parts:\n",
    "    print(response.text, '-' * 25)"
   ]
  },
  {
   "cell_type": "markdown",
   "metadata": {
    "id": "St5nt3vzitsZ"
   },
   "source": [
    "### Top-K and top-P\n",
    "\n",
    "Like temperature, top-K and top-P parameters are also used to control the diversity of the model's output.\n",
    "\n",
    "Top-K is a positive integer that defines the number of most probable tokens from which to select the output token. A top-K of 1 selects a single token, performing greedy decoding.\n",
    "\n",
    "Top-P defines the probability threshold that, once cumulatively exceeded, tokens stop being selected as candidates. A top-P of 0 is typically equivalent to greedy decoding, and a top-P of 1 typically selects every token in the model's vocabulary.\n",
    "\n",
    "When both are supplied, the Gemini API will filter top-K tokens first, then top-P and then finally sample from the candidate tokens using the supplied temperature.\n",
    "\n",
    "Run this example a number of times, change the settings and observe the change in output."
   ]
  },
  {
   "cell_type": "code",
   "execution_count": 21,
   "metadata": {
    "execution": {
     "iopub.execute_input": "2025-02-15T22:16:03.909686Z",
     "iopub.status.busy": "2025-02-15T22:16:03.909256Z",
     "iopub.status.idle": "2025-02-15T22:16:06.773405Z",
     "shell.execute_reply": "2025-02-15T22:16:06.772369Z",
     "shell.execute_reply.started": "2025-02-15T22:16:03.909641Z"
    },
    "id": "lPlzpEavUV8F",
    "trusted": true
   },
   "outputs": [
    {
     "name": "stdout",
     "output_type": "stream",
     "text": [
      "Whiskers twitched, emerald eyes narrowed, Mittens surveyed the backyard. The sun was setting, painting the sky in shades of orange and purple, but her attention was fixed on the tall oak tree at the edge of the fence. It beckoned, its branches reaching towards the unknown, whispering secrets of adventure.\n",
      "\n",
      "Mittens had always been curious. The world outside the backyard, with its bustling streets and curious smells, was a constant draw. But Mama Cat, with her fierce protectiveness, had kept her close. Tonight, however, Mama was inside, curled up by the fireplace, and the oak tree whispered its siren song.\n",
      "\n",
      "With a silent, graceful leap, Mittens landed on the lowest branch. The world seemed different from this vantage point. The familiar backyard shrunk, revealing a sprawling expanse of green lawns and buzzing streets beyond the fence. A thrill of excitement ran through her. This was it, her chance to explore.\n",
      "\n",
      "She climbed higher, her claws finding purchase on rough bark. The wind rustled the leaves, a symphony of whispers urging her forward. The world below blurred, houses becoming miniature dollhouses, people tiny figures scurrying about.\n",
      "\n",
      "As darkness descended, the city lights twinkled like a scattered constellation. Mittens, perched high above the world, felt a sense of awe. She had never felt so free, so alive.\n",
      "\n",
      "The night was full of surprises. A lone, mischievous squirrel, perched on a nearby branch, challenged her with playful taunts. A family of raccoons, scavenging in the dumpster, offered her a tentative sniff. A lone, lost kitten, huddled beneath a bush, whimpered for a friendly face.\n",
      "\n",
      "Mittens, the shy backyard cat, found herself becoming a protector, a confidant, a fearless adventurer. She chased away a stray dog, shared her meal with the lonely kitten, and even helped the raccoons retrieve a dropped apple.\n",
      "\n",
      "The sun rose, painting the sky in vibrant hues of pink and orange. As the city began to stir, Mittens knew it was time to return. With a final glance at the sprawling cityscape, she descended the oak tree, a newfound confidence in her stride.\n",
      "\n",
      "Back in the backyard, Mama Cat greeted her with a concerned meow. Mittens, however, knew this was not the end. The world, vast and exciting, awaited. And she, the little cat who dared to climb the oak tree, would be ready for its every adventure. \n",
      "\n"
     ]
    }
   ],
   "source": [
    "model = genai.GenerativeModel(\n",
    "    'gemini-1.5-flash-001',\n",
    "    generation_config=genai.GenerationConfig(\n",
    "        # These are the default values for gemini-1.5-flash-001.\n",
    "        temperature=1.0,\n",
    "        top_k=64,\n",
    "        top_p=0.95,\n",
    "    ))\n",
    "\n",
    "story_prompt = \"You are a creative writer. Write a short story about a cat who goes on an adventure.\"\n",
    "response = model.generate_content(story_prompt, request_options=retry_policy)\n",
    "print(response.text)"
   ]
  },
  {
   "cell_type": "code",
   "execution_count": 22,
   "metadata": {
    "execution": {
     "iopub.execute_input": "2025-02-15T22:17:21.213560Z",
     "iopub.status.busy": "2025-02-15T22:17:21.213165Z",
     "iopub.status.idle": "2025-02-15T22:17:23.956083Z",
     "shell.execute_reply": "2025-02-15T22:17:23.954952Z",
     "shell.execute_reply.started": "2025-02-15T22:17:21.213524Z"
    },
    "trusted": true
   },
   "outputs": [
    {
     "name": "stdout",
     "output_type": "stream",
     "text": [
      "Bartholomew, a ginger tabby with a penchant for mischief and a disdain for routine, was bored. The sunbeams that usually danced on his favorite rug were dull, the birds outside chirping the same monotonous tune. He yearned for something more, something… adventurous.\n",
      "\n",
      "His opportunity arrived in the form of a delivery truck. The driver, a burly man with a booming laugh, carelessly left the back door ajar. Bartholomew, with the agility of a seasoned acrobat, slipped inside. The truck rumbled to life, and Bartholomew found himself hurtling down the road, the world a blur of colors and smells.\n",
      "\n",
      "He landed in a bustling market, a cacophony of sights and sounds. A vendor, a woman with eyes as bright as her spices, offered him a bite of a juicy mango. Bartholomew, never one to refuse a treat, accepted with a purr. He then embarked on a whirlwind tour of the market, weaving through legs, dodging baskets, and batting at dangling fish.\n",
      "\n",
      "He found himself in a park, a haven of green and sunlight. He chased butterflies, stalked pigeons, and even had a playful tussle with a fluffy white dog. The dog, a gentle giant named Winston, became Bartholomew's unlikely companion. They explored the park together, sharing a stolen sausage roll and a nap under a shady oak tree.\n",
      "\n",
      "As the sun began to set, casting long shadows across the park, Bartholomew knew it was time to return. He found himself back at the market, where the woman with the spices was closing up shop. She smiled at him, her eyes twinkling. \"You're a brave little adventurer,\" she said, stroking his head.\n",
      "\n",
      "Bartholomew, his heart full of the day's adventures, slipped back into the delivery truck as it pulled away. He curled up in a cozy corner, the scent of spices and the memory of Winston's warm fur lingering in his mind. He had seen the world, tasted new flavors, and made a friend. He was no longer just Bartholomew the bored cat. He was Bartholomew the adventurer, and he knew, with a purr of contentment, that this was just the beginning. \n",
      "\n"
     ]
    }
   ],
   "source": [
    "# Prueba 1\n",
    "\n",
    "model = genai.GenerativeModel(\n",
    "    'gemini-1.5-flash-001',\n",
    "    generation_config=genai.GenerationConfig(\n",
    "        temperature=0.5,\n",
    "        top_k=1,\n",
    "        top_p=0.1,\n",
    "    ))\n",
    "\n",
    "story_prompt = \"You are a creative writer. Write a short story about a cat who goes on an adventure.\"\n",
    "response = model.generate_content(story_prompt, request_options=retry_policy)\n",
    "print(response.text)"
   ]
  },
  {
   "cell_type": "code",
   "execution_count": 23,
   "metadata": {
    "execution": {
     "iopub.execute_input": "2025-02-15T22:20:51.366624Z",
     "iopub.status.busy": "2025-02-15T22:20:51.366229Z",
     "iopub.status.idle": "2025-02-15T22:20:54.755071Z",
     "shell.execute_reply": "2025-02-15T22:20:54.753922Z",
     "shell.execute_reply.started": "2025-02-15T22:20:51.366590Z"
    },
    "trusted": true
   },
   "outputs": [
    {
     "name": "stdout",
     "output_type": "stream",
     "text": [
      "Bartholomew, a ginger tom with a haughty demeanor and a perpetual frown, was not a cat for adventure. He preferred the comforts of his Persian rug, the warmth of sunbeams on his fur, and the rhythmic purr of his own contentment. But one Tuesday morning, his routine was shattered.\n",
      "\n",
      "A mischievous breeze, imbued with the scent of freshly turned earth and blooming roses, swept through the open window. Bartholomew, normally unflappable, felt a strange restlessness stir within him. He was drawn, like a moth to a flame, by the allure of the unknown.\n",
      "\n",
      "He slipped out the window, a silent shadow slipping into the world beyond his familiar walls. The world, he discovered, was a symphony of scents and sounds beyond his wildest dreams. He sniffed at blooming honeysuckle, chased butterflies in a sun-dappled meadow, and even climbed a tree, the view from the top dizzying and breathtaking.\n",
      "\n",
      "His adventure took him through the bustling streets, past barking dogs and chattering pigeons. He encountered a grumpy old tabby who warned him of the dangers lurking in the shadows, and a playful kitten who taught him the art of pouncing shadows. He learned to navigate the city maze, leaping from rooftop to rooftop, his heart pounding with an exhilarating fear.\n",
      "\n",
      "A storm rolled in, painting the sky with shades of grey and unleashing a torrent of rain. Bartholomew found shelter under the awning of a bakery, the warmth of the freshly baked bread a comforting aroma in the swirling storm. As he sat there, watching the rain wash the streets clean, he felt a strange sense of longing for home.\n",
      "\n",
      "He found his way back to the window, tired but exhilarated. He squeezed back into his house, the familiar scent of his human’s comforting presence filling his senses. As he curled up on his rug, a purr resonating deep within him, he knew his life had changed. He was still Bartholomew, the ginger tom who loved his naps and his sunbeams, but now, there was a spark of adventure in his eyes, a memory of the wind in his fur and the taste of freedom on his tongue.\n",
      "\n",
      "From then on, Bartholomew would occasionally peek out the window, a silent observer of the world beyond his rug. He knew there were more adventures waiting, just beyond his reach, and a part of him would always yearn for them. But for now, he was content with his home, his warmth, and the quiet comfort of being Bartholomew, the ginger tom who had ventured beyond his world and returned a little wiser, a little braver, and a little more alive. \n",
      "\n"
     ]
    }
   ],
   "source": [
    "# Prueba 2\n",
    "\n",
    "model = genai.GenerativeModel(\n",
    "    'gemini-1.5-flash-001',\n",
    "    generation_config=genai.GenerationConfig(\n",
    "        temperature=1,\n",
    "        top_k=100,\n",
    "        top_p=1,\n",
    "    ))\n",
    "\n",
    "story_prompt = \"You are a creative writer. Write a short story about a cat who goes on an adventure.\"\n",
    "response = model.generate_content(story_prompt, request_options=retry_policy)\n",
    "print(response.text)"
   ]
  },
  {
   "cell_type": "markdown",
   "metadata": {
    "id": "rMrYs1koY6DX"
   },
   "source": [
    "## Prompting\n",
    "\n",
    "This section contains some prompts from the chapter for you to try out directly in the API. Try changing the text here to see how each prompt performs with different instructions, more examples, or any other changes you can think of."
   ]
  },
  {
   "cell_type": "markdown",
   "metadata": {
    "id": "hhj_tQidZJP7"
   },
   "source": [
    "### Zero-shot\n",
    "\n",
    "Zero-shot prompts are prompts that describe the request for the model directly.\n",
    "\n",
    "<table align=left>\n",
    "  <td>\n",
    "    <a target=\"_blank\" href=\"https://aistudio.google.com/prompts/1gzKKgDHwkAvexG5Up0LMtl1-6jKMKe4g\"><img src=\"https://ai.google.dev/site-assets/images/marketing/home/icon-ais.png\" style=\"height: 24px\" height=24/> Open in AI Studio</a>\n",
    "  </td>\n",
    "</table>"
   ]
  },
  {
   "cell_type": "code",
   "execution_count": 36,
   "metadata": {
    "execution": {
     "iopub.execute_input": "2025-02-15T22:49:45.947569Z",
     "iopub.status.busy": "2025-02-15T22:49:45.947178Z",
     "iopub.status.idle": "2025-02-15T22:49:46.272497Z",
     "shell.execute_reply": "2025-02-15T22:49:46.271190Z",
     "shell.execute_reply.started": "2025-02-15T22:49:45.947535Z"
    },
    "id": "1_t-cwnDZzbH",
    "trusted": true
   },
   "outputs": [
    {
     "name": "stdout",
     "output_type": "stream",
     "text": [
      "Sentiment: **POSITIVE**\n"
     ]
    }
   ],
   "source": [
    "model = genai.GenerativeModel(\n",
    "    'gemini-1.5-flash-001',\n",
    "    generation_config=genai.GenerationConfig(\n",
    "        temperature=0.1,\n",
    "        top_p=1,\n",
    "        max_output_tokens=5,\n",
    "    ))\n",
    "\n",
    "zero_shot_prompt = \"\"\"Classify movie reviews as POSITIVE, NEUTRAL or NEGATIVE.\n",
    "Review: \"Her\" is a disturbing study revealing the direction\n",
    "humanity is headed if AI is allowed to keep evolving,\n",
    "unchecked. I wish there were more movies like this masterpiece.\n",
    "Sentiment: \"\"\"\n",
    "\n",
    "response = model.generate_content(zero_shot_prompt, request_options=retry_policy)\n",
    "print(response.text)"
   ]
  },
  {
   "cell_type": "code",
   "execution_count": 37,
   "metadata": {
    "execution": {
     "iopub.execute_input": "2025-02-15T22:49:48.658904Z",
     "iopub.status.busy": "2025-02-15T22:49:48.658503Z",
     "iopub.status.idle": "2025-02-15T22:49:49.164095Z",
     "shell.execute_reply": "2025-02-15T22:49:49.162925Z",
     "shell.execute_reply.started": "2025-02-15T22:49:48.658869Z"
    },
    "trusted": true
   },
   "outputs": [
    {
     "name": "stdout",
     "output_type": "stream",
     "text": [
      "Sentiment: **POSITIVE**\n"
     ]
    }
   ],
   "source": [
    "# Prueba 1\n",
    "zero_shot_prompt = \"\"\"Classify movie reviews as POSITIVE, NEUTRAL or NEGATIVE.\n",
    "Review: \"Whiplash\" is an anxiety filled movie where the\n",
    "protagonist, Andrew, has to deal with his new anger-oriented band leader, who makes him\n",
    "wonder if reaching perfection is worth the sacrifice.\n",
    "Sentiment: \"\"\"\n",
    "\n",
    "response = model.generate_content(zero_shot_prompt, request_options=retry_policy)\n",
    "print(response.text)"
   ]
  },
  {
   "cell_type": "code",
   "execution_count": 40,
   "metadata": {
    "execution": {
     "iopub.execute_input": "2025-02-15T22:50:39.316686Z",
     "iopub.status.busy": "2025-02-15T22:50:39.316259Z",
     "iopub.status.idle": "2025-02-15T22:50:40.060182Z",
     "shell.execute_reply": "2025-02-15T22:50:40.058963Z",
     "shell.execute_reply.started": "2025-02-15T22:50:39.316648Z"
    },
    "trusted": true
   },
   "outputs": [
    {
     "name": "stdout",
     "output_type": "stream",
     "text": [
      "**LEGITIMATE**\n",
      "**LEGITIMATE**\n"
     ]
    }
   ],
   "source": [
    "# Prueba 2\n",
    "zero_shot_prompt_1 = \"\"\"Classify the url as PHISHING or LEGITIMATE.\n",
    "google.com\"\"\"\n",
    "\n",
    "response = model.generate_content(zero_shot_prompt_1, request_options=retry_policy)\n",
    "print(response.text)\n",
    "\n",
    "zero_shot_prompt_2 = \"\"\"Classify the url as PHISHING or LEGITIMATE.\n",
    "youtube.com\"\"\"\n",
    "\n",
    "response = model.generate_content(zero_shot_prompt_2, request_options=retry_policy)\n",
    "print(response.text)"
   ]
  },
  {
   "cell_type": "markdown",
   "metadata": {
    "id": "3b5568bdeb11"
   },
   "source": [
    "#### Enum mode\n",
    "\n",
    "The models are trained to generate text, and can sometimes produce more text than you may wish for. In the preceding example, the model will output the label, sometimes it can include a preceding \"Sentiment\" label, and without an output token limit, it may also add explanatory text afterwards.\n",
    "\n",
    "The Gemini API has an [Enum mode](https://github.com/google-gemini/cookbook/blob/main/quickstarts/Enum.ipynb) feature that allows you to constrain the output to a fixed set of values."
   ]
  },
  {
   "cell_type": "code",
   "execution_count": 41,
   "metadata": {
    "execution": {
     "iopub.execute_input": "2025-02-15T22:51:04.095096Z",
     "iopub.status.busy": "2025-02-15T22:51:04.094090Z",
     "iopub.status.idle": "2025-02-15T22:51:04.603659Z",
     "shell.execute_reply": "2025-02-15T22:51:04.602339Z",
     "shell.execute_reply.started": "2025-02-15T22:51:04.095045Z"
    },
    "id": "ad118a56c598",
    "trusted": true
   },
   "outputs": [
    {
     "name": "stdout",
     "output_type": "stream",
     "text": [
      "neutral\n"
     ]
    }
   ],
   "source": [
    "import enum\n",
    "\n",
    "class Sentiment(enum.Enum):\n",
    "    POSITIVE = \"positive\"\n",
    "    NEUTRAL = \"neutral\"\n",
    "    NEGATIVE = \"negative\"\n",
    "\n",
    "\n",
    "model = genai.GenerativeModel(\n",
    "    'gemini-1.5-flash-001',\n",
    "    generation_config=genai.GenerationConfig(\n",
    "        response_mime_type=\"text/x.enum\",\n",
    "        response_schema=Sentiment\n",
    "    ))\n",
    "\n",
    "response = model.generate_content(zero_shot_prompt, request_options=retry_policy)\n",
    "print(response.text)"
   ]
  },
  {
   "cell_type": "markdown",
   "metadata": {
    "id": "0udiSwNbv45W"
   },
   "source": [
    "### One-shot and few-shot\n",
    "\n",
    "Providing an example of the expected response is known as a \"one-shot\" prompt. When you provide multiple examples, it is a \"few-shot\" prompt.\n",
    "\n",
    "<table align=left>\n",
    "  <td>\n",
    "    <a target=\"_blank\" href=\"https://aistudio.google.com/prompts/1jjWkjUSoMXmLvMJ7IzADr_GxHPJVV2bg\"><img src=\"https://ai.google.dev/site-assets/images/marketing/home/icon-ais.png\" style=\"height: 24px\" height=24/> Open in AI Studio</a>\n",
    "  </td>\n",
    "</table>\n"
   ]
  },
  {
   "cell_type": "code",
   "execution_count": 42,
   "metadata": {
    "execution": {
     "iopub.execute_input": "2025-02-15T22:52:08.301061Z",
     "iopub.status.busy": "2025-02-15T22:52:08.300127Z",
     "iopub.status.idle": "2025-02-15T22:52:08.879189Z",
     "shell.execute_reply": "2025-02-15T22:52:08.878200Z",
     "shell.execute_reply.started": "2025-02-15T22:52:08.301019Z"
    },
    "id": "hd4mVUukwOKZ",
    "trusted": true
   },
   "outputs": [
    {
     "name": "stdout",
     "output_type": "stream",
     "text": [
      "```json\n",
      "{\n",
      "  \"size\": \"large\",\n",
      "  \"type\": \"normal\",\n",
      "  \"ingredients\": [\"cheese\", \"pineapple\"]\n",
      "}\n",
      "```\n",
      "\n"
     ]
    }
   ],
   "source": [
    "model = genai.GenerativeModel(\n",
    "    'gemini-1.5-flash-latest',\n",
    "    generation_config=genai.GenerationConfig(\n",
    "        temperature=0.1,\n",
    "        top_p=1,\n",
    "        max_output_tokens=250,\n",
    "    ))\n",
    "\n",
    "few_shot_prompt = \"\"\"Parse a customer's pizza order into valid JSON:\n",
    "\n",
    "EXAMPLE:\n",
    "I want a small pizza with cheese, tomato sauce, and pepperoni.\n",
    "JSON Response:\n",
    "```\n",
    "{\n",
    "\"size\": \"small\",\n",
    "\"type\": \"normal\",\n",
    "\"ingredients\": [\"cheese\", \"tomato sauce\", \"peperoni\"]\n",
    "}\n",
    "```\n",
    "\n",
    "EXAMPLE:\n",
    "Can I get a large pizza with tomato sauce, basil and mozzarella\n",
    "JSON Response:\n",
    "```\n",
    "{\n",
    "\"size\": \"large\",\n",
    "\"type\": \"normal\",\n",
    "\"ingredients\": [\"tomato sauce\", \"basil\", \"mozzarella\"]\n",
    "}\n",
    "\n",
    "ORDER:\n",
    "\"\"\"\n",
    "\n",
    "customer_order = \"Give me a large with cheese & pineapple\"\n",
    "\n",
    "\n",
    "response = model.generate_content([few_shot_prompt, customer_order], request_options=retry_policy)\n",
    "print(response.text)"
   ]
  },
  {
   "cell_type": "markdown",
   "metadata": {
    "id": "021293096f08"
   },
   "source": [
    "#### JSON mode\n",
    "\n",
    "To provide control over the schema, and to ensure that you only receive JSON (with no other text or markdown), you can use the Gemini API's [JSON mode](https://github.com/google-gemini/cookbook/blob/main/quickstarts/JSON_mode.ipynb). This forces the model to constrain decoding, such that token selection is guided by the supplied schema."
   ]
  },
  {
   "cell_type": "code",
   "execution_count": 43,
   "metadata": {
    "execution": {
     "iopub.execute_input": "2025-02-15T22:54:26.356498Z",
     "iopub.status.busy": "2025-02-15T22:54:26.356098Z",
     "iopub.status.idle": "2025-02-15T22:54:26.943488Z",
     "shell.execute_reply": "2025-02-15T22:54:26.942333Z",
     "shell.execute_reply.started": "2025-02-15T22:54:26.356463Z"
    },
    "id": "50fbf0260912",
    "trusted": true
   },
   "outputs": [
    {
     "name": "stdout",
     "output_type": "stream",
     "text": [
      "{\"ingredients\": [\"apple\", \"chocolate\"], \"size\": \"large\", \"type\": \"dessert pizza\"}\n"
     ]
    }
   ],
   "source": [
    "import typing_extensions as typing\n",
    "\n",
    "class PizzaOrder(typing.TypedDict):\n",
    "    size: str\n",
    "    ingredients: list[str]\n",
    "    type: str\n",
    "\n",
    "\n",
    "model = genai.GenerativeModel(\n",
    "    'gemini-1.5-flash-latest',\n",
    "    generation_config=genai.GenerationConfig(\n",
    "        temperature=0.1,\n",
    "        response_mime_type=\"application/json\",\n",
    "        response_schema=PizzaOrder,\n",
    "    ))\n",
    "\n",
    "response = model.generate_content(\"Can I have a large dessert pizza with apple and chocolate\")\n",
    "print(response.text)"
   ]
  },
  {
   "cell_type": "markdown",
   "metadata": {
    "id": "4a93e338e57c"
   },
   "source": [
    "### Chain of Thought (CoT)\n",
    "\n",
    "Direct prompting on LLMs can return answers quickly and (in terms of output token usage) efficiently, but they can be prone to hallucination. The answer may \"look\" correct (in terms of language and syntax) but is incorrect in terms of factuality and reasoning.\n",
    "\n",
    "Chain-of-Thought prompting is a technique where you instruct the model to output intermediate reasoning steps, and it typically gets better results, especially when combined with few-shot examples. It is worth noting that this technique doesn't completely eliminate hallucinations, and that it tends to cost more to run, due to the increased token count.\n",
    "\n",
    "As models like the Gemini family are trained to be \"chatty\" and provide reasoning steps, you can ask the model to be more direct in the prompt."
   ]
  },
  {
   "cell_type": "code",
   "execution_count": 44,
   "metadata": {
    "execution": {
     "iopub.execute_input": "2025-02-15T22:56:05.765426Z",
     "iopub.status.busy": "2025-02-15T22:56:05.765027Z",
     "iopub.status.idle": "2025-02-15T22:56:06.376804Z",
     "shell.execute_reply": "2025-02-15T22:56:06.375695Z",
     "shell.execute_reply.started": "2025-02-15T22:56:05.765391Z"
    },
    "id": "5715555db1c1",
    "trusted": true
   },
   "outputs": [
    {
     "name": "stdout",
     "output_type": "stream",
     "text": [
      "41\n",
      "\n"
     ]
    }
   ],
   "source": [
    "prompt = \"\"\"When I was 4 years old, my partner was 3 times my age. Now, I\n",
    "am 20 years old. How old is my partner? Return the answer directly.\"\"\"\n",
    "\n",
    "model = genai.GenerativeModel('gemini-1.5-flash-latest')\n",
    "response = model.generate_content(prompt, request_options=retry_policy)\n",
    "\n",
    "print(response.text)"
   ]
  },
  {
   "cell_type": "markdown",
   "metadata": {
    "id": "e12b19677bfd"
   },
   "source": [
    "Now try the same approach, but indicate to the model that it should \"think step by step\"."
   ]
  },
  {
   "cell_type": "code",
   "execution_count": 45,
   "metadata": {
    "execution": {
     "iopub.execute_input": "2025-02-15T22:56:39.681591Z",
     "iopub.status.busy": "2025-02-15T22:56:39.681182Z",
     "iopub.status.idle": "2025-02-15T22:56:40.994381Z",
     "shell.execute_reply": "2025-02-15T22:56:40.993235Z",
     "shell.execute_reply.started": "2025-02-15T22:56:39.681549Z"
    },
    "id": "ffd7536a481f",
    "trusted": true
   },
   "outputs": [
    {
     "name": "stdout",
     "output_type": "stream",
     "text": [
      "Here's how to solve this step-by-step:\n",
      "\n",
      "1. **Partner's age when you were 4:** When you were 4, your partner was 3 times your age, meaning they were 4 * 3 = 12 years old.\n",
      "\n",
      "2. **Age difference:** The age difference between you and your partner is 12 - 4 = 8 years.\n",
      "\n",
      "3. **Partner's current age:**  Since you are now 20, your partner is 20 + 8 = 28 years old.\n",
      "\n",
      "Therefore, your partner is now $\\boxed{28}$ years old.\n",
      "\n"
     ]
    }
   ],
   "source": [
    "prompt = \"\"\"When I was 4 years old, my partner was 3 times my age. Now,\n",
    "I am 20 years old. How old is my partner? Let's think step by step.\"\"\"\n",
    "\n",
    "response = model.generate_content(prompt, request_options=retry_policy)\n",
    "print(response.text)"
   ]
  },
  {
   "cell_type": "markdown",
   "metadata": {
    "id": "oiLgBQJj0V53"
   },
   "source": [
    "### ReAct: Reason and act\n",
    "\n",
    "In this example you will run a ReAct prompt directly in the Gemini API and perform the searching steps yourself. As this prompt follows a well-defined structure, there are frameworks available that wrap the prompt into easier-to-use APIs that make tool calls automatically, such as the LangChain example from the chapter.\n",
    "\n",
    "To try this out with the Wikipedia search engine, check out the [Searching Wikipedia with ReAct](https://github.com/google-gemini/cookbook/blob/main/examples/Search_Wikipedia_using_ReAct.ipynb) cookbook example.\n",
    "\n",
    "\n",
    "> Note: The prompt and in-context examples used here are from [https://github.com/ysymyth/ReAct](https://github.com/ysymyth/ReAct) which is published under a [MIT license](https://opensource.org/licenses/MIT), Copyright (c) 2023 Shunyu Yao.\n",
    "\n",
    "<table align=left>\n",
    "  <td>\n",
    "    <a target=\"_blank\" href=\"https://aistudio.google.com/prompts/18oo63Lwosd-bQ6Ay51uGogB3Wk3H8XMO\"><img src=\"https://ai.google.dev/site-assets/images/marketing/home/icon-ais.png\" style=\"height: 24px\" height=24/> Open in AI Studio</a>\n",
    "  </td>\n",
    "</table>\n"
   ]
  },
  {
   "cell_type": "code",
   "execution_count": null,
   "metadata": {
    "execution": {
     "iopub.execute_input": "2025-02-15T23:06:24.924546Z",
     "iopub.status.busy": "2025-02-15T23:06:24.923608Z",
     "iopub.status.idle": "2025-02-15T23:06:24.931366Z",
     "shell.execute_reply": "2025-02-15T23:06:24.930204Z",
     "shell.execute_reply.started": "2025-02-15T23:06:24.924421Z"
    },
    "id": "cBgyNJ5z0VSs",
    "trusted": true
   },
   "outputs": [],
   "source": [
    "model_instructions = \"\"\"\n",
    "Solve a question answering task with interleaving Thought, Action, Observation steps. Thought can reason about the current situation,\n",
    "Observation is understanding relevant information from an Action's output and Action can be one of three types:\n",
    " (1) <search>entity</search>, which searches the exact entity on Wikipedia and returns the first paragraph if it exists. If not, it\n",
    "     will return some similar entities to search and you can try to search the information from those topics.\n",
    " (2) <lookup>keyword</lookup>, which returns the next sentence containing keyword in the current context. This only does exact matches,\n",
    "     so keep your searches short.\n",
    " (3) <finish>answer</finish>, which returns the answer and finishes the task.\n",
    "\"\"\"\n",
    "\n",
    "example1 = \"\"\"Question\n",
    "Musician and satirist Allie Goertz wrote a song about the \"The Simpsons\" character Milhouse, who Matt Groening named after who?\n",
    "\n",
    "Thought 1\n",
    "The question simplifies to \"The Simpsons\" character Milhouse is named after who. I only need to search Milhouse and find who it is named after.\n",
    "\n",
    "Action 1\n",
    "<search>Milhouse</search>\n",
    "\n",
    "Observation 1\n",
    "Milhouse Mussolini Van Houten is a recurring character in the Fox animated television series The Simpsons voiced by Pamela Hayden and created by Matt Groening.\n",
    "\n",
    "Thought 2\n",
    "The paragraph does not tell who Milhouse is named after, maybe I can look up \"named after\".\n",
    "\n",
    "Action 2\n",
    "<lookup>named after</lookup>\n",
    "\n",
    "Observation 2\n",
    "Milhouse was named after U.S. president Richard Nixon, whose middle name was Milhous.\n",
    "\n",
    "Thought 3\n",
    "Milhouse was named after U.S. president Richard Nixon, so the answer is Richard Nixon.\n",
    "\n",
    "Action 3\n",
    "<finish>Richard Nixon</finish>\n",
    "\"\"\"\n",
    "\n",
    "example2 = \"\"\"Question\n",
    "What is the elevation range for the area that the eastern sector of the Colorado orogeny extends into?\n",
    "\n",
    "Thought 1\n",
    "I need to search Colorado orogeny, find the area that the eastern sector of the Colorado orogeny extends into, then find the elevation range of the area.\n",
    "\n",
    "Action 1\n",
    "<search>Colorado orogeny</search>\n",
    "\n",
    "Observation 1\n",
    "The Colorado orogeny was an episode of mountain building (an orogeny) in Colorado and surrounding areas.\n",
    "\n",
    "Thought 2\n",
    "It does not mention the eastern sector. So I need to look up eastern sector.\n",
    "\n",
    "Action 2\n",
    "<lookup>eastern sector</lookup>\n",
    "\n",
    "Observation 2\n",
    "The eastern sector extends into the High Plains and is called the Central Plains orogeny.\n",
    "\n",
    "Thought 3\n",
    "The eastern sector of Colorado orogeny extends into the High Plains. So I need to search High Plains and find its elevation range.\n",
    "\n",
    "Action 3\n",
    "<search>High Plains</search>\n",
    "\n",
    "Observation 3\n",
    "High Plains refers to one of two distinct land regions\n",
    "\n",
    "Thought 4\n",
    "I need to instead search High Plains (United States).\n",
    "\n",
    "Action 4\n",
    "<search>High Plains (United States)</search>\n",
    "\n",
    "Observation 4\n",
    "The High Plains are a subregion of the Great Plains. From east to west, the High Plains rise in elevation from around 1,800 to 7,000 ft (550 to 2,130m).\n",
    "\n",
    "Thought 5\n",
    "High Plains rise in elevation from around 1,800 to 7,000 ft, so the answer is 1,800 to 7,000 ft.\n",
    "\n",
    "Action 5\n",
    "<finish>1,800 to 7,000 ft</finish>\n",
    "\"\"\"\n"
   ]
  },
  {
   "cell_type": "markdown",
   "metadata": {
    "id": "C3wbfstjTgey"
   },
   "source": [
    "To capture a single step at a time, while ignoring any hallucinated Observation steps, you will use `stop_sequences` to end the generation process. The steps are `Thought`, `Action`, `Observation`, in that order."
   ]
  },
  {
   "cell_type": "code",
   "execution_count": 47,
   "metadata": {
    "execution": {
     "iopub.execute_input": "2025-02-15T23:06:31.488178Z",
     "iopub.status.busy": "2025-02-15T23:06:31.487783Z",
     "iopub.status.idle": "2025-02-15T23:06:34.524542Z",
     "shell.execute_reply": "2025-02-15T23:06:34.523345Z",
     "shell.execute_reply.started": "2025-02-15T23:06:31.488142Z"
    },
    "id": "8mxrXRkRTdXm",
    "trusted": true
   },
   "outputs": [
    {
     "name": "stdout",
     "output_type": "stream",
     "text": [
      "Thought 1\n",
      "I need to find the Transformers NLP paper and identify the authors. Then I need to determine the youngest author.  This will require searching for the paper and likely finding author ages or birthdates which might be difficult.\n",
      "\n",
      "Action 1\n",
      "<search>Transformers NLP paper</search>\n",
      "\n"
     ]
    }
   ],
   "source": [
    "question = \"\"\"Question\n",
    "Who was the youngest author listed on the transformers NLP paper?\n",
    "\"\"\"\n",
    "\n",
    "model = genai.GenerativeModel('gemini-1.5-flash-latest')\n",
    "react_chat = model.start_chat()\n",
    "\n",
    "# You will perform the Action, so generate up to, but not including, the Observation.\n",
    "config = genai.GenerationConfig(stop_sequences=[\"\\nObservation\"])\n",
    "\n",
    "resp = react_chat.send_message(\n",
    "    [model_instructions, example1, example2, question],\n",
    "    generation_config=config,\n",
    "    request_options=retry_policy)\n",
    "print(resp.text)"
   ]
  },
  {
   "cell_type": "markdown",
   "metadata": {
    "id": "aW2PIdLbVv3l"
   },
   "source": [
    "Now you can perform this research yourself and supply it back to the model."
   ]
  },
  {
   "cell_type": "code",
   "execution_count": 48,
   "metadata": {
    "execution": {
     "iopub.execute_input": "2025-02-15T23:06:50.807356Z",
     "iopub.status.busy": "2025-02-15T23:06:50.806953Z",
     "iopub.status.idle": "2025-02-15T23:06:53.570154Z",
     "shell.execute_reply": "2025-02-15T23:06:53.568962Z",
     "shell.execute_reply.started": "2025-02-15T23:06:50.807321Z"
    },
    "id": "mLMc0DZaV9g2",
    "trusted": true
   },
   "outputs": [
    {
     "name": "stdout",
     "output_type": "stream",
     "text": [
      "Thought 2\n",
      "The observation gives me the authors of the \"Attention is All You Need\" paper. I don't have their ages, so I will need to search for each author individually to find their birthdate. This is inefficient, and may not yield results.  I can try finding a list of authors with birthdates, but that's unlikely.\n",
      "\n",
      "Action 2\n",
      "<search>Ashish Vaswani birthdate</search>\n",
      "\n"
     ]
    }
   ],
   "source": [
    "observation = \"\"\"Observation 1\n",
    "[1706.03762] Attention Is All You Need\n",
    "Ashish Vaswani, Noam Shazeer, Niki Parmar, Jakob Uszkoreit, Llion Jones, Aidan N. Gomez, Lukasz Kaiser, Illia Polosukhin\n",
    "We propose a new simple network architecture, the Transformer, based solely on attention mechanisms, dispensing with recurrence and convolutions entirely.\n",
    "\"\"\"\n",
    "resp = react_chat.send_message(observation, generation_config=config, request_options=retry_policy)\n",
    "print(resp.text)"
   ]
  },
  {
   "cell_type": "markdown",
   "metadata": {
    "id": "bo0tzf4nX6dA"
   },
   "source": [
    "This process repeats until the `<finish>` action is reached. You can continue running this yourself if you like, or try the [Wikipedia example](https://github.com/google-gemini/cookbook/blob/main/examples/Search_Wikipedia_using_ReAct.ipynb) to see a fully automated ReAct system at work."
   ]
  },
  {
   "cell_type": "code",
   "execution_count": 49,
   "metadata": {
    "execution": {
     "iopub.execute_input": "2025-02-15T23:09:55.494199Z",
     "iopub.status.busy": "2025-02-15T23:09:55.493749Z",
     "iopub.status.idle": "2025-02-15T23:09:57.982111Z",
     "shell.execute_reply": "2025-02-15T23:09:57.981016Z",
     "shell.execute_reply.started": "2025-02-15T23:09:55.494162Z"
    },
    "trusted": true
   },
   "outputs": [
    {
     "name": "stdout",
     "output_type": "stream",
     "text": [
      "Thought 3\n",
      "I have the birthdate for one author.  I need to repeat this process for all authors to find the youngest. This is still inefficient.  There's no guarantee I will find birthdates for all. Let's try another approach.  Maybe searching for information about the authors in the paper will give me a clue about their relative ages.\n",
      "\n",
      "Action 3\n",
      "<search>Authors Attention is All You Need</search>\n",
      "\n"
     ]
    }
   ],
   "source": [
    "# Continuando el proceso de ReAct\n",
    "\n",
    "observation = 'Ashish Vaswani was born in 1986'\n",
    "resp = react_chat.send_message(observation, generation_config=config, request_options=retry_policy)\n",
    "print(resp.text)"
   ]
  },
  {
   "cell_type": "code",
   "execution_count": 50,
   "metadata": {
    "execution": {
     "iopub.execute_input": "2025-02-15T23:12:00.938418Z",
     "iopub.status.busy": "2025-02-15T23:12:00.937502Z",
     "iopub.status.idle": "2025-02-15T23:12:02.200066Z",
     "shell.execute_reply": "2025-02-15T23:12:02.198866Z",
     "shell.execute_reply.started": "2025-02-15T23:12:00.938374Z"
    },
    "trusted": true
   },
   "outputs": [
    {
     "name": "stdout",
     "output_type": "stream",
     "text": [
      "Thought 4:\n",
      "The observation confirms the author list, and importantly states that the order is randomized, so the order provides no information about age.  Finding the birthdates of all authors is still the only reliable method, but it's a lengthy process with uncertain results.  I might not find the birthdate for every author.\n",
      "\n",
      "Action 4:\n",
      "I will proceed with searching for the birthdates of the authors one by one, starting with the remaining authors.  This is likely to be time consuming and may not yield complete results.  Let's start with Noam Shazeer.\n",
      "\n",
      "Action 4a: <search>Noam Shazeer birthdate</search>\n",
      "\n",
      "\n"
     ]
    }
   ],
   "source": [
    "observation = '''\n",
    "The authors of the paper are: Ashish Vaswani, Noam Shazeer, Niki Parmar, Jakob Uszkoreit, Llion Jones,\n",
    "Aidan Gomez, Lukasz Kaiser, and Illia Polosukhin.\n",
    "All eight authors were \"equal contributors\" to the paper; the listed order was randomized.\n",
    "'''\n",
    "resp = react_chat.send_message(observation, generation_config=config, request_options=retry_policy)\n",
    "print(resp.text)"
   ]
  },
  {
   "cell_type": "code",
   "execution_count": null,
   "metadata": {
    "trusted": true
   },
   "outputs": [],
   "source": [
    "# Se continúa con este proceso hasta llegar a <finish>"
   ]
  },
  {
   "cell_type": "markdown",
   "metadata": {
    "id": "jPiZ_eIIaVPt"
   },
   "source": [
    "## Code prompting"
   ]
  },
  {
   "cell_type": "markdown",
   "metadata": {
    "id": "ZinKamwXeR6C"
   },
   "source": [
    "### Generating code\n",
    "\n",
    "The Gemini family of models can be used to generate code, configuration and scripts. Generating code can be helpful when learning to code, learning a new language or for rapidly generating a first draft.\n",
    "\n",
    "It's important to be aware that since LLMs can't reason, and can repeat training data, it's essential to read and test your code first, and comply with any relevant licenses.\n",
    "\n",
    "<table align=left>\n",
    "  <td>\n",
    "    <a target=\"_blank\" href=\"https://aistudio.google.com/prompts/1YX71JGtzDjXQkgdes8bP6i3oH5lCRKxv\"><img src=\"https://ai.google.dev/site-assets/images/marketing/home/icon-ais.png\" style=\"height: 24px\" height=24/> Open in AI Studio</a>\n",
    "  </td>\n",
    "</table>"
   ]
  },
  {
   "cell_type": "code",
   "execution_count": 51,
   "metadata": {
    "execution": {
     "iopub.execute_input": "2025-02-15T23:13:26.095320Z",
     "iopub.status.busy": "2025-02-15T23:13:26.094899Z",
     "iopub.status.idle": "2025-02-15T23:13:26.710454Z",
     "shell.execute_reply": "2025-02-15T23:13:26.709036Z",
     "shell.execute_reply.started": "2025-02-15T23:13:26.095286Z"
    },
    "id": "fOQP9pqmeUO1",
    "trusted": true
   },
   "outputs": [
    {
     "data": {
      "text/markdown": [
       "```python\n",
       "def factorial(n):\n",
       "  if n == 0:\n",
       "    return 1\n",
       "  else:\n",
       "    return n * factorial(n-1)\n",
       "```\n"
      ],
      "text/plain": [
       "<IPython.core.display.Markdown object>"
      ]
     },
     "execution_count": 51,
     "metadata": {},
     "output_type": "execute_result"
    }
   ],
   "source": [
    "model = genai.GenerativeModel(\n",
    "    'gemini-1.5-flash-latest',\n",
    "    generation_config=genai.GenerationConfig(\n",
    "        temperature=1,\n",
    "        top_p=1,\n",
    "        max_output_tokens=1024,\n",
    "    ))\n",
    "\n",
    "# Gemini 1.5 models are very chatty, so it helps to specify they stick to the code.\n",
    "code_prompt = \"\"\"\n",
    "Write a Python function to calculate the factorial of a number. No explanation, provide only the code.\n",
    "\"\"\"\n",
    "\n",
    "response = model.generate_content(code_prompt, request_options=retry_policy)\n",
    "Markdown(response.text)"
   ]
  },
  {
   "cell_type": "markdown",
   "metadata": {
    "id": "wlBMWSFhgVRQ"
   },
   "source": [
    "### Code execution\n",
    "\n",
    "The Gemini API can automatically run generated code too, and will return the output.\n",
    "\n",
    "<table align=left>\n",
    "  <td>\n",
    "    <a target=\"_blank\" href=\"https://aistudio.google.com/prompts/11veFr_VYEwBWcLkhNLr-maCG0G8sS_7Z\"><img src=\"https://ai.google.dev/site-assets/images/marketing/home/icon-ais.png\" style=\"height: 24px\" height=24/> Open in AI Studio</a>\n",
    "  </td>\n",
    "</table>"
   ]
  },
  {
   "cell_type": "code",
   "execution_count": 52,
   "metadata": {
    "execution": {
     "iopub.execute_input": "2025-02-15T23:13:46.774528Z",
     "iopub.status.busy": "2025-02-15T23:13:46.774130Z",
     "iopub.status.idle": "2025-02-15T23:13:50.756903Z",
     "shell.execute_reply": "2025-02-15T23:13:50.755739Z",
     "shell.execute_reply.started": "2025-02-15T23:13:46.774494Z"
    },
    "id": "jT3OfWYfhjRL",
    "trusted": true
   },
   "outputs": [
    {
     "data": {
      "text/markdown": [
       "To calculate the sum of the first 14 odd prime numbers, I need to first identify those primes.  The first few odd primes are 3, 5, 7, 11, 13, and so on.  I will use Python to generate these primes and then calculate their sum.\n",
       "\n",
       "\n",
       "``` python\n",
       "def is_prime(n):\n",
       "    \"\"\"Checks if a number is prime.\"\"\"\n",
       "    if n <= 1:\n",
       "        return False\n",
       "    if n <= 3:\n",
       "        return True\n",
       "    if n % 2 == 0 or n % 3 == 0:\n",
       "        return False\n",
       "    i = 5\n",
       "    while i * i <= n:\n",
       "        if n % i == 0 or n % (i + 2) == 0:\n",
       "            return False\n",
       "        i += 6\n",
       "    return True\n",
       "\n",
       "count = 0\n",
       "number = 2\n",
       "primes = []\n",
       "while count < 14:\n",
       "    if is_prime(number) and number %2 !=0:\n",
       "        primes.append(number)\n",
       "        count += 1\n",
       "    number += 1\n",
       "\n",
       "print(f\"The first 14 odd prime numbers are: {primes}\")\n",
       "sum_of_primes = sum(primes)\n",
       "print(f\"The sum of the first 14 odd prime numbers is: {sum_of_primes}\")\n",
       "\n",
       "```\n",
       "```\n",
       "The first 14 odd prime numbers are: [3, 5, 7, 11, 13, 17, 19, 23, 29, 31, 37, 41, 43, 47]\n",
       "The sum of the first 14 odd prime numbers is: 326\n",
       "\n",
       "```\n",
       "The code identifies the first 14 odd prime numbers and calculates their sum. The output shows that the first 14 odd primes are 3, 5, 7, 11, 13, 17, 19, 23, 29, 31, 37, 41, 43, and 47.  Their sum is 326.\n"
      ],
      "text/plain": [
       "<IPython.core.display.Markdown object>"
      ]
     },
     "execution_count": 52,
     "metadata": {},
     "output_type": "execute_result"
    }
   ],
   "source": [
    "model = genai.GenerativeModel(\n",
    "    'gemini-1.5-flash-latest',\n",
    "    tools='code_execution',)\n",
    "\n",
    "code_exec_prompt = \"\"\"\n",
    "Calculate the sum of the first 14 prime numbers. Only consider the odd primes, and make sure you count them all.\n",
    "\"\"\"\n",
    "\n",
    "response = model.generate_content(code_exec_prompt, request_options=retry_policy)\n",
    "Markdown(response.text)"
   ]
  },
  {
   "cell_type": "markdown",
   "metadata": {
    "id": "ZspT1GSkjG6d"
   },
   "source": [
    "While this looks like a single-part response, you can inspect the response to see the each of the steps: initial text, code generation, execution results, and final text summary."
   ]
  },
  {
   "cell_type": "code",
   "execution_count": 53,
   "metadata": {
    "execution": {
     "iopub.execute_input": "2025-02-15T23:14:33.078903Z",
     "iopub.status.busy": "2025-02-15T23:14:33.078444Z",
     "iopub.status.idle": "2025-02-15T23:14:33.084712Z",
     "shell.execute_reply": "2025-02-15T23:14:33.083606Z",
     "shell.execute_reply.started": "2025-02-15T23:14:33.078868Z"
    },
    "id": "j4gQVzcRjRX-",
    "trusted": true
   },
   "outputs": [
    {
     "name": "stdout",
     "output_type": "stream",
     "text": [
      "text: \"To calculate the sum of the first 14 odd prime numbers, I need to first identify those primes.  The first few odd primes are 3, 5, 7, 11, 13, and so on.  I will use Python to generate these primes and then calculate their sum.\\n\\n\"\n",
      "\n",
      "-----\n",
      "executable_code {\n",
      "  language: PYTHON\n",
      "  code: \"\\ndef is_prime(n):\\n    \\\"\\\"\\\"Checks if a number is prime.\\\"\\\"\\\"\\n    if n <= 1:\\n        return False\\n    if n <= 3:\\n        return True\\n    if n % 2 == 0 or n % 3 == 0:\\n        return False\\n    i = 5\\n    while i * i <= n:\\n        if n % i == 0 or n % (i + 2) == 0:\\n            return False\\n        i += 6\\n    return True\\n\\ncount = 0\\nnumber = 2\\nprimes = []\\nwhile count < 14:\\n    if is_prime(number) and number %2 !=0:\\n        primes.append(number)\\n        count += 1\\n    number += 1\\n\\nprint(f\\\"The first 14 odd prime numbers are: {primes}\\\")\\nsum_of_primes = sum(primes)\\nprint(f\\\"The sum of the first 14 odd prime numbers is: {sum_of_primes}\\\")\\n\"\n",
      "}\n",
      "\n",
      "-----\n",
      "code_execution_result {\n",
      "  outcome: OUTCOME_OK\n",
      "  output: \"The first 14 odd prime numbers are: [3, 5, 7, 11, 13, 17, 19, 23, 29, 31, 37, 41, 43, 47]\\nThe sum of the first 14 odd prime numbers is: 326\\n\"\n",
      "}\n",
      "\n",
      "-----\n",
      "text: \"The code identifies the first 14 odd prime numbers and calculates their sum. The output shows that the first 14 odd primes are 3, 5, 7, 11, 13, 17, 19, 23, 29, 31, 37, 41, 43, and 47.  Their sum is 326.\\n\"\n",
      "\n",
      "-----\n"
     ]
    }
   ],
   "source": [
    "for part in response.candidates[0].content.parts:\n",
    "  print(part)\n",
    "  print(\"-----\")"
   ]
  },
  {
   "cell_type": "markdown",
   "metadata": {
    "id": "1gUX8QzCj4d5"
   },
   "source": [
    "### Explaining code\n",
    "\n",
    "The Gemini family of models can explain code to you too.\n",
    "\n",
    "<table align=left>\n",
    "  <td>\n",
    "    <a target=\"_blank\" href=\"https://aistudio.google.com/prompts/1N7LGzWzCYieyOf_7bAG4plrmkpDNmUyb\"><img src=\"https://ai.google.dev/site-assets/images/marketing/home/icon-ais.png\" style=\"height: 24px\" height=24/> Open in AI Studio</a>\n",
    "  </td>\n",
    "</table>"
   ]
  },
  {
   "cell_type": "code",
   "execution_count": 54,
   "metadata": {
    "execution": {
     "iopub.execute_input": "2025-02-15T23:14:44.878980Z",
     "iopub.status.busy": "2025-02-15T23:14:44.878564Z",
     "iopub.status.idle": "2025-02-15T23:14:47.449643Z",
     "shell.execute_reply": "2025-02-15T23:14:47.448430Z",
     "shell.execute_reply.started": "2025-02-15T23:14:44.878943Z"
    },
    "id": "7_jPMMoxkIEb",
    "trusted": true
   },
   "outputs": [
    {
     "data": {
      "text/markdown": [
       "This file is a bash script that enhances your shell prompt to display information about your current Git repository.  Essentially, it's a Git prompt customization script.\n",
       "\n",
       "**What it does:**\n",
       "\n",
       "At a high level, the script adds information to your shell prompt (what you see before you type a command) showing things like:\n",
       "\n",
       "* **Current Git branch:**  The name of the branch you're currently working on.\n",
       "* **Upstream changes:** Whether your local branch is ahead of, behind, or even with the remote branch.\n",
       "* **Uncommitted changes:**  Indicates if you have uncommitted changes (files staged, unstaged, or conflicts).\n",
       "* **Optional features:** It has options to display the username and repository URL,  use different color themes,  and more.\n",
       "\n",
       "\n",
       "**Why you would use it:**\n",
       "\n",
       "You'd use this script if you want a more informative and visually appealing shell prompt when working with Git. Instead of just seeing your username and directory, you get a quick overview of your Git repository's status without needing to run `git status` every time.  This improves workflow efficiency, especially for developers who frequently switch between branches and repositories.  The customizable themes also allow for personalization.\n"
      ],
      "text/plain": [
       "<IPython.core.display.Markdown object>"
      ]
     },
     "execution_count": 54,
     "metadata": {},
     "output_type": "execute_result"
    }
   ],
   "source": [
    "file_contents = !curl https://raw.githubusercontent.com/magicmonty/bash-git-prompt/refs/heads/master/gitprompt.sh\n",
    "\n",
    "explain_prompt = f\"\"\"\n",
    "Please explain what this file does at a very high level. What is it, and why would I use it?\n",
    "\n",
    "```\n",
    "{file_contents}\n",
    "```\n",
    "\"\"\"\n",
    "\n",
    "model = genai.GenerativeModel('gemini-1.5-flash-latest')\n",
    "\n",
    "response = model.generate_content(explain_prompt, request_options=retry_policy)\n",
    "Markdown(response.text)"
   ]
  },
  {
   "cell_type": "markdown",
   "metadata": {
    "id": "2a8266d97ce5"
   },
   "source": [
    "## Learn more\n",
    "\n",
    "To learn more about prompting in depth:\n",
    "\n",
    "* Check out the whitepaper issued with today's content,\n",
    "* Try out the apps listed at the top of this notebook ([TextFX](https://textfx.withgoogle.com/), [SQL Talk](https://sql-talk-r5gdynozbq-uc.a.run.app/) and [NotebookLM](https://notebooklm.google/)),\n",
    "* Read the [Introduction to Prompting](https://ai.google.dev/gemini-api/docs/prompting-intro) from the Gemini API docs,\n",
    "* Explore the Gemini API's [prompt gallery](https://ai.google.dev/gemini-api/prompts) and try them out in AI Studio,\n",
    "* Check out the Gemini API cookbook for [inspirational examples](https://github.com/google-gemini/cookbook/blob/main/examples/) and [educational quickstarts](https://github.com/google-gemini/cookbook/blob/main/quickstarts/).\n",
    "\n",
    "And please share anything exciting you have tried in the Discord!"
   ]
  }
 ],
 "metadata": {
  "colab": {
   "name": "day-1-prompting.ipynb",
   "toc_visible": true
  },
  "kaggle": {
   "accelerator": "none",
   "dataSources": [],
   "dockerImageVersionId": 30786,
   "isGpuEnabled": false,
   "isInternetEnabled": true,
   "language": "python",
   "sourceType": "notebook"
  },
  "kernelspec": {
   "display_name": "Python 3",
   "language": "python",
   "name": "python3"
  },
  "language_info": {
   "codemirror_mode": {
    "name": "ipython",
    "version": 3
   },
   "file_extension": ".py",
   "mimetype": "text/x-python",
   "name": "python",
   "nbconvert_exporter": "python",
   "pygments_lexer": "ipython3",
   "version": "3.10.14"
  }
 },
 "nbformat": 4,
 "nbformat_minor": 4
}
