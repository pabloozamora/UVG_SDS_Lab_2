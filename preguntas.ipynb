{
 "cells": [
  {
   "cell_type": "markdown",
   "metadata": {},
   "source": [
    "# Laboratorio 2 - GenAI"
   ]
  },
  {
   "cell_type": "markdown",
   "metadata": {},
   "source": [
    "Universidad del Valle de Guatemala<br>\n",
    "Security Data Science - Sección 10<br>\n",
    "Pablo Andrés Zamora Vásquez<br>\n",
    "Carné 21780<br>"
   ]
  },
  {
   "cell_type": "markdown",
   "metadata": {},
   "source": [
    "*¿Hubo alguna aplicación o caso de uso de los LLMs que le llamó más la atención? ¿Por qué?*\n",
    "<br><br>\n",
    "Sí, hubo varias aplicaciones que me llamaron la atención:\n",
    "<br>\n",
    "- En primer lugar, me interesó mucho la capacidad de **referenciar documentos** e incluso **bases de datos** al momento de crear un modelo, de manera que este pueda consultarlos antes de proveer una respuesta a prompt. Esto no solo asegura una mayor precisión en las respuestas a preguntas relacionadas a temas propios del usuario (como lo sería la base de datos de un negocio, documentos de una institución, etc.), sino que también le brinda más contexto al modelo más allá de los datos con los que fue entrenado.\n",
    "<br><br>\n",
    "- Por otro lado me gustó mucho la implementación de **funciones personalizadas** que pueden ser ejecutadas por el modelo (llamadas *tools* a lo largo de este curso), ya que permiten automatizar procesos que el usuario necesita realizar constantemente con solo pedirle al modelo que los ejecute mediante un prompt. Esto está muy relacionado a la aplicación mencionada anteriormente, ya que, como se vio en el día 3 del curso, fue posible implementar funciones que realizaran procesos específicos sobre una base de datos, en lugar de ejecutar queries sobre esta manualmente.<br><br>\n",
    "- Finalmente, y probablemente la aplicación que más me intrigó, fue la implementación de **LangGraph** en un modelo, ya que este permitió definir las acciones de un *chatbot* con la finalidad de que este actuase como un sistema interactivo para realizar órdenes de un café. Me gustó mucho que en este ejercicio se pusieran en práctica las dos aplicaciones anteriores (referenciar una base de datos y funciones personalizadas) durante la creación del agente. El uso de LangGraph permitió que se establecieran con anterioridad las acciones que debía tomar el chatbot en cada interacción con el usuario, haciendo uso de estados statefull (para llevar un registro de la orden del cliente) y stateless (para cualquier interacción con el cliente que no requiriera almacenar información). Aunque el grafo implementado para esta actividad fue bastante sencillo, esta técnica podría expanderse mucho más y hacer que el agente realice acciones mucho más complejas. Por ello, esta aplicación tiene mucho potencial para integrarse en el desarrollo de una aplicación mucho más grande, como un asistente personal o de negocio totalmente personalizado, un sistema automatizado en una cadena de producción, entre otros."
   ]
  },
  {
   "cell_type": "markdown",
   "metadata": {},
   "source": [
    "*Proponga un caso de ciberseguridad que considere se puede solucionar mediante un LLM y\n",
    "describa de forma general cómo lo resolvería.*\n",
    "<br><br>\n",
    "Algunos casos que considero que podrían solucionarse mediante un LLM serían:\n",
    "- **Detección de phishing en correos electrónicos y páginas web:** Un LLM podría utilizarse para detectar intentos de phishing en correos electrónicos y páginas web mediante el análisis semántico del contenido del mensaje o la página. Para ello, debería entrenarse o afinarse un modelo (como lo sería Gemini, que se utilizó durante este curso) con el contenido de mensajes y páginas tanto legítimas como de phishing. Luego, se integraría el modelo como un plugin para clientes de correo electrónico o navegadores que permitan analizar correos entrantes o páginas visitadas en tiempo real y, finalmente, notificar al usuario de contenido detectado como phishing. Esta solución tendría la ventaja de poder mejorar continuamente el modelo, ya que podrían enviarse el contenido detectado como phishing a una base de datos con los que se seguiría alimentando al modelo. <br><br>\n",
    "- **Detección de ataques en redes:** También podría utilizarse un LLM para analizar registros (*logs*) de eventos de una red en tiempo real, identificando patrones sospechosos y proporcionar acciones de mitigación automatizadas, actuando como un asistente de seguridad inteligente. Para ello, se alimentaría al modelo con registros de tráfico de red, de manera que este pueda comparar los eventos con ataques conocidos y, una vez entrenado, notificar a los usuarios de la red de amenazas. Este modelo también se beneficiaría de mejora continua, ya que podría aprender de nuevas técnicas de ataque, mejorando así su detección."
   ]
  }
 ],
 "metadata": {
  "language_info": {
   "name": "python"
  }
 },
 "nbformat": 4,
 "nbformat_minor": 2
}
